{
 "cells": [
  {
   "cell_type": "code",
   "execution_count": null,
   "metadata": {},
   "outputs": [],
   "source": [
    "'''\n",
    "    ipynb file that includes all python scripts/modules created for this project.\n",
    "    This file helps to set up connection to database, populate database from CSV files, make queries such as\n",
    "    select data of certain types/conditions, insert and remove records.\n",
    "    @file csc_336_project.ipynb\n",
    "    @author Junhui Huang, Yenny Huang\n",
    "    @version 1.02 May, 2023\n",
    "'''"
   ]
  },
  {
   "cell_type": "code",
   "execution_count": 21,
   "metadata": {},
   "outputs": [],
   "source": [
    "# Importing modules\n",
    "import mysql.connector\n",
    "import numpy as np\n",
    "import pandas as pd\n",
    "from datetime import date\n"
   ]
  },
  {
   "cell_type": "code",
   "execution_count": 22,
   "metadata": {},
   "outputs": [
    {
     "data": {
      "text/plain": [
       "array(['username', 'P@33W0rd', '127.0.0.1', 'bodega'], dtype='<U9')"
      ]
     },
     "execution_count": 22,
     "metadata": {},
     "output_type": "execute_result"
    }
   ],
   "source": [
    "# Read authentication file\n",
    "auth = np.loadtxt('auth.txt', dtype=str)\n",
    "auth"
   ]
  },
  {
   "cell_type": "code",
   "execution_count": 23,
   "metadata": {},
   "outputs": [
    {
     "data": {
      "text/plain": [
       "{'username': 'username',\n",
       " 'password': 'P@33W0rd',\n",
       " 'host': '127.0.0.1',\n",
       " 'database': 'bodega'}"
      ]
     },
     "execution_count": 23,
     "metadata": {},
     "output_type": "execute_result"
    }
   ],
   "source": [
    "# Config dictionary\n",
    "labels = ['username', 'password', 'host', 'database']\n",
    "config = dict(zip(labels, list(auth)))\n",
    "config"
   ]
  },
  {
   "cell_type": "code",
   "execution_count": 24,
   "metadata": {},
   "outputs": [
    {
     "data": {
      "text/html": [
       "<div>\n",
       "<style scoped>\n",
       "    .dataframe tbody tr th:only-of-type {\n",
       "        vertical-align: middle;\n",
       "    }\n",
       "\n",
       "    .dataframe tbody tr th {\n",
       "        vertical-align: top;\n",
       "    }\n",
       "\n",
       "    .dataframe thead th {\n",
       "        text-align: right;\n",
       "    }\n",
       "</style>\n",
       "<table border=\"1\" class=\"dataframe\">\n",
       "  <thead>\n",
       "    <tr style=\"text-align: right;\">\n",
       "      <th></th>\n",
       "      <th>product_id</th>\n",
       "      <th>product_name</th>\n",
       "    </tr>\n",
       "  </thead>\n",
       "  <tbody>\n",
       "    <tr>\n",
       "      <th>0</th>\n",
       "      <td>1</td>\n",
       "      <td>Coca-Cola</td>\n",
       "    </tr>\n",
       "    <tr>\n",
       "      <th>1</th>\n",
       "      <td>2</td>\n",
       "      <td>Doritos Nacho Cheese</td>\n",
       "    </tr>\n",
       "    <tr>\n",
       "      <th>2</th>\n",
       "      <td>3</td>\n",
       "      <td>Kit Kat</td>\n",
       "    </tr>\n",
       "    <tr>\n",
       "      <th>3</th>\n",
       "      <td>4</td>\n",
       "      <td>Red Bull</td>\n",
       "    </tr>\n",
       "    <tr>\n",
       "      <th>4</th>\n",
       "      <td>5</td>\n",
       "      <td>Pringles Original</td>\n",
       "    </tr>\n",
       "    <tr>\n",
       "      <th>5</th>\n",
       "      <td>6</td>\n",
       "      <td>Reese\\'s Peanut Butter Cups</td>\n",
       "    </tr>\n",
       "    <tr>\n",
       "      <th>6</th>\n",
       "      <td>7</td>\n",
       "      <td>M&amp;M\\'s Peanut</td>\n",
       "    </tr>\n",
       "    <tr>\n",
       "      <th>7</th>\n",
       "      <td>8</td>\n",
       "      <td>Lay\\'s Classic</td>\n",
       "    </tr>\n",
       "    <tr>\n",
       "      <th>8</th>\n",
       "      <td>9</td>\n",
       "      <td>Snapple Peach Tea</td>\n",
       "    </tr>\n",
       "    <tr>\n",
       "      <th>9</th>\n",
       "      <td>10</td>\n",
       "      <td>Tostitos Scoops</td>\n",
       "    </tr>\n",
       "  </tbody>\n",
       "</table>\n",
       "</div>"
      ],
      "text/plain": [
       "   product_id                 product_name\n",
       "0           1                    Coca-Cola\n",
       "1           2         Doritos Nacho Cheese\n",
       "2           3                      Kit Kat\n",
       "3           4                     Red Bull\n",
       "4           5            Pringles Original\n",
       "5           6  Reese\\'s Peanut Butter Cups\n",
       "6           7                M&M\\'s Peanut\n",
       "7           8               Lay\\'s Classic\n",
       "8           9            Snapple Peach Tea\n",
       "9          10              Tostitos Scoops"
      ]
     },
     "execution_count": 24,
     "metadata": {},
     "output_type": "execute_result"
    }
   ],
   "source": [
    "# Reading the CSV into a pandas dataframe\n",
    "products = pd.read_csv('products.csv', header=None)\n",
    "products.columns = ['product_id', 'product_name']\n",
    "products.head(10)"
   ]
  },
  {
   "cell_type": "code",
   "execution_count": 25,
   "metadata": {},
   "outputs": [
    {
     "name": "stdout",
     "output_type": "stream",
     "text": [
      "Executing:  INSERT INTO Products VALUES ('1', 'Coca-Cola')\n",
      "Executing:  INSERT INTO Products VALUES ('2', 'Doritos Nacho Cheese')\n",
      "Executing:  INSERT INTO Products VALUES ('3', 'Kit Kat')\n",
      "Executing:  INSERT INTO Products VALUES ('4', 'Red Bull')\n",
      "Executing:  INSERT INTO Products VALUES ('5', 'Pringles Original')\n",
      "Executing:  INSERT INTO Products VALUES ('6', 'Reese\\'s Peanut Butter Cups')\n",
      "Executing:  INSERT INTO Products VALUES ('7', 'M&M\\'s Peanut')\n",
      "Executing:  INSERT INTO Products VALUES ('8', 'Lay\\'s Classic')\n",
      "Executing:  INSERT INTO Products VALUES ('9', 'Snapple Peach Tea')\n",
      "Executing:  INSERT INTO Products VALUES ('10', 'Tostitos Scoops')\n"
     ]
    }
   ],
   "source": [
    "# Set up connection\n",
    "conn = mysql.connector.connect(**config)\n",
    "cursor = conn.cursor()\n",
    "\n",
    "# Inserting products\n",
    "for i in range(len(products)):\n",
    "    product_id = products.iloc[i]['product_id']\n",
    "    product_name = products.iloc[i]['product_name']\n",
    "    query = f\"INSERT INTO Products VALUES ('{product_id}', '{product_name}')\".\\\n",
    "            format(product_id=product_id, product_name=product_name)\n",
    "    print(\"Executing: \", query)\n",
    "    cursor.execute(query)\n",
    "\n",
    "# Commit changes\n",
    "cursor.execute('commit')\n",
    "# Close cursor\n",
    "cursor.close()\n",
    "# Close connection\n",
    "conn.close()\n"
   ]
  },
  {
   "cell_type": "code",
   "execution_count": 26,
   "metadata": {},
   "outputs": [
    {
     "name": "stdout",
     "output_type": "stream",
     "text": [
      "SELECT * FROM Products\n",
      "[(1, 'Coca-Cola'), (2, 'Doritos Nacho Cheese'), (3, 'Kit Kat'), (8, \"Lay's Classic\"), (7, \"M&M's Peanut\"), (5, 'Pringles Original'), (4, 'Red Bull'), (6, \"Reese's Peanut Butter Cups\"), (9, 'Snapple Peach Tea'), (10, 'Tostitos Scoops')]\n"
     ]
    }
   ],
   "source": [
    "conn = mysql.connector.connect(**config)\n",
    "cursor = conn.cursor()\n",
    "\n",
    "# Select query: display all products\n",
    "table = \"Products\"\n",
    "query = f\"SELECT * FROM {table}\"\n",
    "cursor.execute(query)\n",
    "records = [record for record in cursor]\n",
    "print(query)\n",
    "print(records)\n",
    "# Close cursor\n",
    "cursor.close()\n",
    "# Close connection\n",
    "conn.close()"
   ]
  },
  {
   "cell_type": "code",
   "execution_count": 27,
   "metadata": {},
   "outputs": [
    {
     "data": {
      "text/html": [
       "<div>\n",
       "<style scoped>\n",
       "    .dataframe tbody tr th:only-of-type {\n",
       "        vertical-align: middle;\n",
       "    }\n",
       "\n",
       "    .dataframe tbody tr th {\n",
       "        vertical-align: top;\n",
       "    }\n",
       "\n",
       "    .dataframe thead th {\n",
       "        text-align: right;\n",
       "    }\n",
       "</style>\n",
       "<table border=\"1\" class=\"dataframe\">\n",
       "  <thead>\n",
       "    <tr style=\"text-align: right;\">\n",
       "      <th></th>\n",
       "      <th>product_id</th>\n",
       "      <th>price</th>\n",
       "    </tr>\n",
       "  </thead>\n",
       "  <tbody>\n",
       "    <tr>\n",
       "      <th>0</th>\n",
       "      <td>1</td>\n",
       "      <td>1.99</td>\n",
       "    </tr>\n",
       "    <tr>\n",
       "      <th>1</th>\n",
       "      <td>2</td>\n",
       "      <td>2.49</td>\n",
       "    </tr>\n",
       "    <tr>\n",
       "      <th>2</th>\n",
       "      <td>3</td>\n",
       "      <td>0.99</td>\n",
       "    </tr>\n",
       "    <tr>\n",
       "      <th>3</th>\n",
       "      <td>4</td>\n",
       "      <td>3.29</td>\n",
       "    </tr>\n",
       "    <tr>\n",
       "      <th>4</th>\n",
       "      <td>5</td>\n",
       "      <td>1.79</td>\n",
       "    </tr>\n",
       "    <tr>\n",
       "      <th>5</th>\n",
       "      <td>6</td>\n",
       "      <td>1.99</td>\n",
       "    </tr>\n",
       "    <tr>\n",
       "      <th>6</th>\n",
       "      <td>7</td>\n",
       "      <td>1.29</td>\n",
       "    </tr>\n",
       "    <tr>\n",
       "      <th>7</th>\n",
       "      <td>8</td>\n",
       "      <td>1.49</td>\n",
       "    </tr>\n",
       "    <tr>\n",
       "      <th>8</th>\n",
       "      <td>9</td>\n",
       "      <td>1.99</td>\n",
       "    </tr>\n",
       "    <tr>\n",
       "      <th>9</th>\n",
       "      <td>10</td>\n",
       "      <td>2.99</td>\n",
       "    </tr>\n",
       "  </tbody>\n",
       "</table>\n",
       "</div>"
      ],
      "text/plain": [
       "   product_id  price\n",
       "0           1   1.99\n",
       "1           2   2.49\n",
       "2           3   0.99\n",
       "3           4   3.29\n",
       "4           5   1.79\n",
       "5           6   1.99\n",
       "6           7   1.29\n",
       "7           8   1.49\n",
       "8           9   1.99\n",
       "9          10   2.99"
      ]
     },
     "execution_count": 27,
     "metadata": {},
     "output_type": "execute_result"
    }
   ],
   "source": [
    "# Reading the CSV into a pandas dataframe\n",
    "prices = pd.read_csv('prices.csv', header=None)\n",
    "prices.columns = ['product_id', 'price']\n",
    "prices.head(10)"
   ]
  },
  {
   "cell_type": "code",
   "execution_count": 28,
   "metadata": {},
   "outputs": [
    {
     "name": "stdout",
     "output_type": "stream",
     "text": [
      "Executing:  INSERT INTO Prices VALUES ('1.0', '1.99')\n",
      "Executing:  INSERT INTO Prices VALUES ('2.0', '2.49')\n",
      "Executing:  INSERT INTO Prices VALUES ('3.0', '0.99')\n",
      "Executing:  INSERT INTO Prices VALUES ('4.0', '3.29')\n",
      "Executing:  INSERT INTO Prices VALUES ('5.0', '1.79')\n",
      "Executing:  INSERT INTO Prices VALUES ('6.0', '1.99')\n",
      "Executing:  INSERT INTO Prices VALUES ('7.0', '1.29')\n",
      "Executing:  INSERT INTO Prices VALUES ('8.0', '1.49')\n",
      "Executing:  INSERT INTO Prices VALUES ('9.0', '1.99')\n",
      "Executing:  INSERT INTO Prices VALUES ('10.0', '2.99')\n"
     ]
    }
   ],
   "source": [
    "conn = mysql.connector.connect(**config)\n",
    "cursor = conn.cursor()\n",
    "\n",
    "# Inserting prices\n",
    "for i in range(len(prices)):\n",
    "    product_id = prices.iloc[i]['product_id']\n",
    "    price = prices.iloc[i]['price']\n",
    "    query = f\"INSERT INTO Prices VALUES ('{product_id}', '{price}')\".\\\n",
    "            format(product_id=product_id, price=price)\n",
    "    print(\"Executing: \", query)\n",
    "    cursor.execute(query)\n",
    "\n",
    "# Commit changes\n",
    "cursor.execute('commit')\n",
    "# Close cursor\n",
    "cursor.close()\n",
    "# Close connection\n",
    "conn.close()"
   ]
  },
  {
   "cell_type": "code",
   "execution_count": 29,
   "metadata": {},
   "outputs": [
    {
     "name": "stdout",
     "output_type": "stream",
     "text": [
      "SELECT * FROM Prices\n",
      "[(1, Decimal('1.99')), (2, Decimal('2.49')), (3, Decimal('0.99')), (4, Decimal('3.29')), (5, Decimal('1.79')), (6, Decimal('1.99')), (7, Decimal('1.29')), (8, Decimal('1.49')), (9, Decimal('1.99')), (10, Decimal('2.99'))]\n"
     ]
    }
   ],
   "source": [
    "conn = mysql.connector.connect(**config)\n",
    "cursor = conn.cursor()\n",
    "\n",
    "# Select query: display all prices\n",
    "table = \"Prices\"\n",
    "query = f\"SELECT * FROM {table}\"\n",
    "cursor.execute(query)\n",
    "records = [record for record in cursor]\n",
    "print(query)\n",
    "print(records)\n",
    "# Close cursor\n",
    "cursor.close()\n",
    "# Close connection\n",
    "conn.close()"
   ]
  },
  {
   "cell_type": "code",
   "execution_count": 30,
   "metadata": {},
   "outputs": [
    {
     "data": {
      "text/html": [
       "<div>\n",
       "<style scoped>\n",
       "    .dataframe tbody tr th:only-of-type {\n",
       "        vertical-align: middle;\n",
       "    }\n",
       "\n",
       "    .dataframe tbody tr th {\n",
       "        vertical-align: top;\n",
       "    }\n",
       "\n",
       "    .dataframe thead th {\n",
       "        text-align: right;\n",
       "    }\n",
       "</style>\n",
       "<table border=\"1\" class=\"dataframe\">\n",
       "  <thead>\n",
       "    <tr style=\"text-align: right;\">\n",
       "      <th></th>\n",
       "      <th>purchase_id</th>\n",
       "      <th>product_id</th>\n",
       "      <th>purchase_date</th>\n",
       "      <th>quantity</th>\n",
       "    </tr>\n",
       "  </thead>\n",
       "  <tbody>\n",
       "    <tr>\n",
       "      <th>0</th>\n",
       "      <td>25769</td>\n",
       "      <td>1</td>\n",
       "      <td>2022-10-17</td>\n",
       "      <td>1</td>\n",
       "    </tr>\n",
       "    <tr>\n",
       "      <th>1</th>\n",
       "      <td>70898</td>\n",
       "      <td>2</td>\n",
       "      <td>2022-09-06</td>\n",
       "      <td>6</td>\n",
       "    </tr>\n",
       "    <tr>\n",
       "      <th>2</th>\n",
       "      <td>52159</td>\n",
       "      <td>3</td>\n",
       "      <td>2022-03-13</td>\n",
       "      <td>4</td>\n",
       "    </tr>\n",
       "    <tr>\n",
       "      <th>3</th>\n",
       "      <td>19012</td>\n",
       "      <td>4</td>\n",
       "      <td>2022-04-02</td>\n",
       "      <td>8</td>\n",
       "    </tr>\n",
       "    <tr>\n",
       "      <th>4</th>\n",
       "      <td>29751</td>\n",
       "      <td>5</td>\n",
       "      <td>2022-07-03</td>\n",
       "      <td>2</td>\n",
       "    </tr>\n",
       "    <tr>\n",
       "      <th>5</th>\n",
       "      <td>23409</td>\n",
       "      <td>6</td>\n",
       "      <td>2022-08-25</td>\n",
       "      <td>7</td>\n",
       "    </tr>\n",
       "    <tr>\n",
       "      <th>6</th>\n",
       "      <td>17823</td>\n",
       "      <td>7</td>\n",
       "      <td>2022-10-02</td>\n",
       "      <td>6</td>\n",
       "    </tr>\n",
       "    <tr>\n",
       "      <th>7</th>\n",
       "      <td>47419</td>\n",
       "      <td>8</td>\n",
       "      <td>2022-09-22</td>\n",
       "      <td>3</td>\n",
       "    </tr>\n",
       "    <tr>\n",
       "      <th>8</th>\n",
       "      <td>88036</td>\n",
       "      <td>9</td>\n",
       "      <td>2022-11-07</td>\n",
       "      <td>2</td>\n",
       "    </tr>\n",
       "    <tr>\n",
       "      <th>9</th>\n",
       "      <td>49055</td>\n",
       "      <td>10</td>\n",
       "      <td>2022-06-15</td>\n",
       "      <td>9</td>\n",
       "    </tr>\n",
       "  </tbody>\n",
       "</table>\n",
       "</div>"
      ],
      "text/plain": [
       "   purchase_id  product_id purchase_date  quantity\n",
       "0        25769           1    2022-10-17         1\n",
       "1        70898           2    2022-09-06         6\n",
       "2        52159           3    2022-03-13         4\n",
       "3        19012           4    2022-04-02         8\n",
       "4        29751           5    2022-07-03         2\n",
       "5        23409           6    2022-08-25         7\n",
       "6        17823           7    2022-10-02         6\n",
       "7        47419           8    2022-09-22         3\n",
       "8        88036           9    2022-11-07         2\n",
       "9        49055          10    2022-06-15         9"
      ]
     },
     "execution_count": 30,
     "metadata": {},
     "output_type": "execute_result"
    }
   ],
   "source": [
    "# Reading the CSV into a pandas dataframe\n",
    "purchase = pd.read_csv('purchases.csv', header=None)\n",
    "purchase.columns = ['purchase_id', 'product_id', 'purchase_date', 'quantity']\n",
    "purchase.head(10)"
   ]
  },
  {
   "cell_type": "code",
   "execution_count": 31,
   "metadata": {},
   "outputs": [
    {
     "name": "stdout",
     "output_type": "stream",
     "text": [
      "Executing:  INSERT INTO Purchases VALUES ('25769', '1', '2022-10-17', '1')\n",
      "Executing:  INSERT INTO Purchases VALUES ('70898', '2', '2022-09-06', '6')\n",
      "Executing:  INSERT INTO Purchases VALUES ('52159', '3', '2022-03-13', '4')\n",
      "Executing:  INSERT INTO Purchases VALUES ('19012', '4', '2022-04-02', '8')\n",
      "Executing:  INSERT INTO Purchases VALUES ('29751', '5', '2022-07-03', '2')\n",
      "Executing:  INSERT INTO Purchases VALUES ('23409', '6', '2022-08-25', '7')\n",
      "Executing:  INSERT INTO Purchases VALUES ('17823', '7', '2022-10-02', '6')\n",
      "Executing:  INSERT INTO Purchases VALUES ('47419', '8', '2022-09-22', '3')\n",
      "Executing:  INSERT INTO Purchases VALUES ('88036', '9', '2022-11-07', '2')\n",
      "Executing:  INSERT INTO Purchases VALUES ('49055', '10', '2022-06-15', '9')\n"
     ]
    }
   ],
   "source": [
    "conn = mysql.connector.connect(**config)\n",
    "cursor = conn.cursor()\n",
    "\n",
    "# Inserting purchases\n",
    "for i in range(len(purchase)):\n",
    "    purchase_id = purchase.iloc[i]['purchase_id']\n",
    "    product_id = purchase.iloc[i]['product_id']\n",
    "    purchase_date = purchase.iloc[i]['purchase_date']\n",
    "    quantity = purchase.iloc[i]['quantity']\n",
    "    query = f\"INSERT INTO Purchases VALUES ('{purchase_id}', '{product_id}', '{purchase_date}', '{quantity}')\".\\\n",
    "            format(purchase_id=purchase_id, product_id=product_id, purchase_date=purchase_date, quantity=quantity)\n",
    "    print(\"Executing: \", query)\n",
    "    cursor.execute(query)\n",
    "\n",
    "# Commit changes\n",
    "cursor.execute('commit')\n",
    "# Close cursor\n",
    "cursor.close()\n",
    "# Close connection\n",
    "conn.close()"
   ]
  },
  {
   "cell_type": "code",
   "execution_count": 32,
   "metadata": {},
   "outputs": [],
   "source": [
    "# add a new column for purchases --> total = quantity * price\n",
    "conn = mysql.connector.connect(**config)\n",
    "cursor = conn.cursor()\n",
    "\n",
    "#cursor.execute(\"ALTER TABLE purchases DROP COLUMN total\")\n",
    "\n",
    "# create the total price column\n",
    "cursor.execute(\"ALTER TABLE purchases ADD COLUMN total DECIMAL(10,2)\")\n",
    "\n",
    "# updates total price\n",
    "cursor.execute(\"UPDATE purchases SET total = (SELECT price * quantity FROM Prices WHERE Prices.product_id = Purchases.product_id)\")\n",
    "\n",
    "# commit changes\n",
    "conn.commit()\n",
    "\n",
    "cursor.close()\n",
    "conn.close()"
   ]
  },
  {
   "cell_type": "code",
   "execution_count": 33,
   "metadata": {},
   "outputs": [
    {
     "name": "stdout",
     "output_type": "stream",
     "text": [
      "SELECT * FROM Purchases\n",
      "[(17823, 7, datetime.date(2022, 10, 2), 6, Decimal('7.74')), (19012, 4, datetime.date(2022, 4, 2), 8, Decimal('26.32')), (23409, 6, datetime.date(2022, 8, 25), 7, Decimal('13.93')), (25769, 1, datetime.date(2022, 10, 17), 1, Decimal('1.99')), (29751, 5, datetime.date(2022, 7, 3), 2, Decimal('3.58')), (47419, 8, datetime.date(2022, 9, 22), 3, Decimal('4.47')), (49055, 10, datetime.date(2022, 6, 15), 9, Decimal('26.91')), (52159, 3, datetime.date(2022, 3, 13), 4, Decimal('3.96')), (70898, 2, datetime.date(2022, 9, 6), 6, Decimal('14.94')), (88036, 9, datetime.date(2022, 11, 7), 2, Decimal('3.98'))]\n"
     ]
    }
   ],
   "source": [
    "conn = mysql.connector.connect(**config)\n",
    "cursor = conn.cursor()\n",
    "\n",
    "# Select query: display all purchases\n",
    "table = \"Purchases\"\n",
    "query = f\"SELECT * FROM {table}\"\n",
    "cursor.execute(query)\n",
    "records = [record for record in cursor]\n",
    "print(query)\n",
    "print(records)\n",
    "# Close cursor\n",
    "cursor.close()\n",
    "# Close connection\n",
    "conn.close()"
   ]
  },
  {
   "cell_type": "code",
   "execution_count": 34,
   "metadata": {},
   "outputs": [
    {
     "name": "stdout",
     "output_type": "stream",
     "text": [
      "SELECT * FROM Products WHERE product_name='Red Bull'\n",
      "[(4, 'Red Bull')]\n"
     ]
    }
   ],
   "source": [
    "# Query for Products for certain name\n",
    "conn = mysql.connector.connect(**config)\n",
    "cursor = conn.cursor()\n",
    "\n",
    "table = \"Products\"\n",
    "attribute = 'product_name'\n",
    "target = \"'Red Bull'\"\n",
    "query = f\"SELECT * FROM {table} WHERE {attribute}={target}\"\n",
    "cursor.execute(query)\n",
    "records = [record for record in cursor]\n",
    "print(query)\n",
    "print(records)\n",
    "# Close cursor\n",
    "cursor.close()\n",
    "# Close connection\n",
    "conn.close()"
   ]
  },
  {
   "cell_type": "code",
   "execution_count": 35,
   "metadata": {},
   "outputs": [
    {
     "name": "stdout",
     "output_type": "stream",
     "text": [
      "SELECT * FROM Prices WHERE price=1.99\n",
      "[(1, Decimal('1.99')), (6, Decimal('1.99')), (9, Decimal('1.99'))]\n"
     ]
    }
   ],
   "source": [
    "# Query for Prices for certain price\n",
    "\n",
    "conn = mysql.connector.connect(**config)\n",
    "cursor = conn.cursor()\n",
    "\n",
    "table = \"Prices\"\n",
    "attribute = 'price'\n",
    "target = \"1.99\"\n",
    "query = f\"SELECT * FROM {table} WHERE {attribute}={target}\"\n",
    "cursor.execute(query)\n",
    "records = [record for record in cursor]\n",
    "print(query)\n",
    "print(records)\n",
    "# Close cursor\n",
    "cursor.close()\n",
    "# Close connection\n",
    "conn.close()"
   ]
  },
  {
   "cell_type": "code",
   "execution_count": 36,
   "metadata": {},
   "outputs": [
    {
     "name": "stdout",
     "output_type": "stream",
     "text": [
      "SELECT * FROM Purchases WHERE purchase_date='2022-08-25'\n",
      "[(23409, 6, datetime.date(2022, 8, 25), 7, Decimal('13.93'))]\n"
     ]
    }
   ],
   "source": [
    "# Query for Purchases by purchase_date\n",
    "conn = mysql.connector.connect(**config)\n",
    "cursor = conn.cursor()\n",
    "\n",
    "table = \"Purchases\"\n",
    "attribute = 'purchase_date'\n",
    "target = \"'2022-08-25'\"\n",
    "query = f\"SELECT * FROM {table} WHERE {attribute}={target}\"\n",
    "cursor.execute(query)\n",
    "records = [record for record in cursor]\n",
    "print(query)\n",
    "print(records)\n",
    "# Close cursor\n",
    "cursor.close()\n",
    "# Close connection\n",
    "conn.close()"
   ]
  },
  {
   "cell_type": "code",
   "execution_count": 37,
   "metadata": {},
   "outputs": [
    {
     "name": "stdout",
     "output_type": "stream",
     "text": [
      "DELETE FROM Products WHERE product_name='Kit Kat'\n"
     ]
    }
   ],
   "source": [
    "# Remove record from Products and Prices and Purchases: remove by product_name or product_id, when\n",
    "# deleting from Products, Prices and Purchases will cascade the changes\n",
    "conn = mysql.connector.connect(**config)\n",
    "cursor = conn.cursor()\n",
    "\n",
    "table = \"Products\"\n",
    "attribute = \"product_name\" # can be product_id\n",
    "target = \"'Kit Kat'\"   # can be product_id\n",
    "query = f\"DELETE FROM {table} WHERE {attribute}={target}\"\n",
    "cursor.execute(query)\n",
    "print(query)\n",
    "\n",
    "conn.commit()\n",
    "# Close cursor\n",
    "cursor.close()\n",
    "# Close connection\n",
    "conn.close()\n",
    "\n",
    "# In this case, Kit Kat with product_id 3 will be removed from all 3 tables"
   ]
  },
  {
   "cell_type": "code",
   "execution_count": 38,
   "metadata": {},
   "outputs": [
    {
     "name": "stdout",
     "output_type": "stream",
     "text": [
      "DELETE FROM Purchases WHERE purchase_id='23409'\n"
     ]
    }
   ],
   "source": [
    "# Remove record from Purchases: remove by any attributes by changing attribute variable\n",
    "conn = mysql.connector.connect(**config)\n",
    "cursor = conn.cursor()\n",
    "\n",
    "attribute = \"purchase_id\"   # can change into other attributes\n",
    "target = \"'23409'\"  # change according to the attribute\n",
    "query = f\"DELETE FROM Purchases WHERE {attribute}={target}\"\n",
    "print(query)\n",
    "cursor.execute(query)\n",
    "\n",
    "conn.commit()\n",
    "cursor.close()\n",
    "conn.close()"
   ]
  },
  {
   "cell_type": "code",
   "execution_count": 39,
   "metadata": {},
   "outputs": [
    {
     "name": "stdout",
     "output_type": "stream",
     "text": [
      "INSERT INTO Products (product_name) VALUES ('Popcorn')\n",
      "INSERT INTO Prices (price) VALUES (0.00)\n",
      "UPDATE Prices SET product_id=(SELECT product_id FROM Products WHERE product_name='Popcorn') WHERE price='0.00'\n",
      "UPDATE Prices SET price=2.69 WHERE price='0.00'\n"
     ]
    }
   ],
   "source": [
    "# Inserting an item into Products and Prices\n",
    "conn = mysql.connector.connect(**config)\n",
    "cursor = conn.cursor()\n",
    "\n",
    "\n",
    "attribute = \"product_name\"\n",
    "target = \"'Popcorn'\"\n",
    "price = \"2.69\"\n",
    "\n",
    "query = f\"INSERT INTO Products ({attribute}) VALUES ({target})\"\n",
    "cursor.execute(query)\n",
    "print(query)\n",
    "\n",
    "# Set price to 0.00 as placeholder, prepare to update later\n",
    "query = f\"INSERT INTO Prices (price) VALUES (0.00)\"\n",
    "cursor.execute(query)\n",
    "print(query)\n",
    "\n",
    "# Assign product_id for the added item in Prices table\n",
    "query = f\"UPDATE Prices SET product_id=(SELECT product_id FROM Products WHERE product_name={target}) WHERE price='0.00'\"\n",
    "cursor.execute(query)\n",
    "print(query)\n",
    "\n",
    "# Update price from 0.00 to the correct price\n",
    "query = f\"UPDATE Prices SET price={price} WHERE price='0.00'\"\n",
    "cursor.execute(query)\n",
    "print(query)\n",
    "\n",
    "\n",
    "conn.commit()\n",
    "# Close cursor\n",
    "cursor.close()\n",
    "# Close connection\n",
    "conn.close()"
   ]
  },
  {
   "cell_type": "code",
   "execution_count": 40,
   "metadata": {},
   "outputs": [
    {
     "name": "stdout",
     "output_type": "stream",
     "text": [
      "SELECT product_id FROM Products WHERE product_name='Red Bull'\n",
      "SELECT price FROM Prices WHERE product_id=4\n",
      "INSERT INTO Purchases (product_id, purchase_date, quantity, total) VALUES (4,'2023-05-13',12,39.48)\n"
     ]
    }
   ],
   "source": [
    "# Make Purchase, Insert into Purchases\n",
    "conn = mysql.connector.connect(**config)\n",
    "cursor = conn.cursor()\n",
    "\n",
    "item = \"'Red Bull'\"\n",
    "quantity = 12\n",
    "purchase_date = date.today()\n",
    "\n",
    "query = f\"SELECT product_id FROM Products WHERE product_name={item}\"\n",
    "print(query)\n",
    "cursor.execute(query)\n",
    "item_id = [record for record in cursor][0][0]\n",
    "\n",
    "query = f\"SELECT price FROM Prices WHERE product_id={item_id}\"\n",
    "print(query)\n",
    "cursor.execute(query)\n",
    "item_price = [record for record in cursor][0][0]\n",
    "\n",
    "query = f\"INSERT INTO Purchases (product_id, purchase_date, quantity, total) VALUES ({item_id},'{purchase_date}',{quantity},{item_price*quantity})\"\n",
    "print(query)\n",
    "cursor.execute(query)\n",
    "\n",
    "conn.commit()\n",
    "cursor.close()\n",
    "conn.close()"
   ]
  },
  {
   "cell_type": "code",
   "execution_count": 41,
   "metadata": {},
   "outputs": [
    {
     "name": "stdout",
     "output_type": "stream",
     "text": [
      "UPDATE Products SET product_name='Pepsi' WHERE product_id=1\n"
     ]
    }
   ],
   "source": [
    "# Update product_name in Products\n",
    "conn = mysql.connector.connect(**config)\n",
    "cursor = conn.cursor()\n",
    "\n",
    "new_name = \"'Pepsi'\"\n",
    "product_id = 1\n",
    "query = f\"UPDATE Products SET product_name={new_name} WHERE product_id={product_id}\"\n",
    "print(query)\n",
    "cursor.execute(query)\n",
    "\n",
    "conn.commit()\n",
    "cursor.close()\n",
    "conn.close()"
   ]
  },
  {
   "cell_type": "code",
   "execution_count": 42,
   "metadata": {},
   "outputs": [
    {
     "name": "stdout",
     "output_type": "stream",
     "text": [
      "UPDATE Prices SET price=128.0 WHERE product_id=7\n"
     ]
    }
   ],
   "source": [
    "# Update price in Prices\n",
    "conn = mysql.connector.connect(**config)\n",
    "cursor = conn.cursor()\n",
    "\n",
    "new_price = 128.00\n",
    "product_id = 7\n",
    "query = f\"UPDATE Prices SET price={new_price} WHERE product_id={product_id}\"\n",
    "print(query)     \n",
    "cursor.execute(query)\n",
    "\n",
    "conn.commit()\n",
    "cursor.close()\n",
    "conn.close()"
   ]
  }
 ],
 "metadata": {
  "kernelspec": {
   "display_name": "Python 3",
   "language": "python",
   "name": "python3"
  },
  "language_info": {
   "codemirror_mode": {
    "name": "ipython",
    "version": 3
   },
   "file_extension": ".py",
   "mimetype": "text/x-python",
   "name": "python",
   "nbconvert_exporter": "python",
   "pygments_lexer": "ipython3",
   "version": "3.10.8"
  },
  "orig_nbformat": 4
 },
 "nbformat": 4,
 "nbformat_minor": 2
}
